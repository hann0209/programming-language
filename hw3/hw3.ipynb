{
  "nbformat": 4,
  "nbformat_minor": 0,
  "metadata": {
    "colab": {
      "provenance": []
    },
    "kernelspec": {
      "name": "python3",
      "display_name": "Python 3"
    },
    "language_info": {
      "name": "python"
    }
  },
  "cells": [
    {
      "cell_type": "code",
      "source": [
        "!pip install requests\n",
        "import requests\n",
        "from bs4 import BeautifulSoup\n",
        "import csv\n",
        "import json"
      ],
      "metadata": {
        "colab": {
          "base_uri": "https://localhost:8080/"
        },
        "id": "NX_UATdtJN_S",
        "outputId": "136a9bb4-1e1a-4a17-a05c-27944a9e2d12"
      },
      "execution_count": 6,
      "outputs": [
        {
          "output_type": "stream",
          "name": "stdout",
          "text": [
            "Requirement already satisfied: requests in /usr/local/lib/python3.10/dist-packages (2.31.0)\n",
            "Requirement already satisfied: charset-normalizer<4,>=2 in /usr/local/lib/python3.10/dist-packages (from requests) (3.3.2)\n",
            "Requirement already satisfied: idna<4,>=2.5 in /usr/local/lib/python3.10/dist-packages (from requests) (3.6)\n",
            "Requirement already satisfied: urllib3<3,>=1.21.1 in /usr/local/lib/python3.10/dist-packages (from requests) (2.0.7)\n",
            "Requirement already satisfied: certifi>=2017.4.17 in /usr/local/lib/python3.10/dist-packages (from requests) (2024.2.2)\n"
          ]
        }
      ]
    },
    {
      "cell_type": "code",
      "source": [
        "url = \"https://kprofiles.com/exo-discography/\""
      ],
      "metadata": {
        "id": "AwyTKxBIJZR1"
      },
      "execution_count": 7,
      "outputs": []
    },
    {
      "cell_type": "code",
      "source": [
        "response = requests.get(url)\n",
        "\n",
        "if response.status_code == 200:\n",
        "    soup = BeautifulSoup(response.text, 'html.parser')\n",
        "\n",
        "    data_to_collect = []"
      ],
      "metadata": {
        "id": "o9nP_KA2J_9A"
      },
      "execution_count": 8,
      "outputs": []
    },
    {
      "cell_type": "code",
      "source": [
        "discography_section = soup.find(\"div\", class_=\"entry-content herald-entry-content\")\n",
        "if discography_section:\n",
        "    data_to_collect.append(discography_section.text)\n",
        "\n",
        "print(data_to_collect)"
      ],
      "metadata": {
        "colab": {
          "base_uri": "https://localhost:8080/"
        },
        "id": "evLODtc0LBcg",
        "outputId": "511b64bd-5a97-4d6c-ba88-89d7e391a8a7"
      },
      "execution_count": 9,
      "outputs": [
        {
          "output_type": "stream",
          "name": "stdout",
          "text": [
            "[\"EXO Discography\\nMama\\nRelease date: April 9, 2012\\n\\nFull Album\\n\\nMamaWhat Is LoveHistoryAngelTwo MoonsMachineXOXO\\nRelease date: June 3, 2013\\n\\nFull AlbumWolfBaby Don’t CryBlack PearlDon’t GoLet Out the Beast3.6.5.Heart AttackPeter PanBabyMy LadyWolf (EXO-K)Wolf (Mandarin Ver.)Miracles in December\\nRelease date: December 9, 2013\\n\\nMini AlbumMiracles in DecemberChristmas DayThe StarMy Turn to CryThe First SnowMiracles in December (Orchestra Ver.)Overdose\\nRelease date: May 7, 2014\\n\\nMini AlbumOverdoseMoonlightThunderRunLove, Love, LoveOverdose (EXO Ver.)Exology Chapter 1: The Lost Planet\\nRelease date: December 22, 2014\\n\\nLive AlbumThe Winter’s TaleThe Lost PlanetHakaMAMA (Rearranged)Let Out The BeastI’m LayDelightAngelBlack Pearl (Rearranged)Up RisingXOXOBeat MakerLove, Love, LoveThunderTell Me What Is LoveMy LadyMy Turn To CryBaby Don’t CryMachineBreakin’ Machine3.6.5.HistoryBeautifulPeter PanMetalDeep BreathOverdoseWolf – The Legend BeginsWolfGrowlLuckyBlack Pearl (Studio Ver.)Love, Love, Love (Acoustic Ver.)Wolf (Stage Ver.)Growl (Stage Ver.)Exodus\\nRelease date: March 30, 2015\\n\\nMini AlbumCall Me BabyTransformerWhat If…My AnswerExodusEl DoradoPlayboyHurtLady LuckBeautifulSing for You\\nRelease date: December 10, 2015\\n\\nMini AlbumUnfairSing for YouGirl X FriendOn the SnowLightsaberEx’Act\\nRelease date: August 18, 2016\\n\\nFull AlbumLucky OneMonsterArtificial LoveCloud 9HeavenWhite NoiseOne and OnlyThey Never KnowStrongerLucky One (Instrumental)Monster (Instrumental)For Life\\nRelease date: December 19, 2016\\n\\nMini AlbumFor LifeFalling for YouWhat I Want for ChristmasTwenty FourWinter HeatThe War\\nRelease date: July 18, 2017\\n\\nFull AlbumThe EveKo Ko BopWhat U Do?ForeverDiamondTouch ItChillWalk on MemoriesGoing CrazyUniverse\\nRelease date: December 26, 2017\\n\\nMini AlbumUniverseBeen ThroughStayFallGood NightLights OutUniverse (CD Ver.)Countdown\\nRelease date: January 31, 2018\\n\\nJapanese Full AlbumElectric KissComing OverLove Me RightLightsaberTactixInto My WorldLovin’ You MoDrop ThatRun ThisCosmic RailwayDon’t Mess Up My Tempo\\nRelease date: November 2, 2018\\n\\nFull AlbumTempoSignOoh La La LaGravityWith You24/7Bad DreamDamageSmile On My FaceOasisTempo (Chinese Ver.)Love Shot\\nRelease date: December 13, 2018\\nRepackage AlbumLove ShotTempoTraumaWaitSignOoh La LaGravityWith You24/7Bad DreamDamageSmile On My FaceOasisLove Shot (Chinese Ver.)Tempo (Chinese Ver.)Obsession\\nRelease date: November 27, 2019\\n\\nFull AlbumObessionTroubleJekyllGrooveYa Ya YaBaby You AreNon StopDay After DayButterfly EffectObsession (Chinese Ver.)Let Me In\\nPre-Release\\n\\nRelease Date: June 12, 2023Let Me InHear Me Out\\nPre-Release\\n\\nRelease Date: June 30, 2023Hear Me OutEXIST\\n7th Regular Album\\n\\nRelease Date: July 10, 2023Cream SodaRegret ItHear Me OutPrivate PartyCinderellaNo MakeupLove FoolAnother DayLet Me InNOTE: BOLDED SONGS HAVE RELEASED MUSIC VIDEOS/SPECIAL VIDEOS\\n.・゜-: ✧ :-───── ❝ Credits ❞ ─────-: ✧ :-゜・．\\nsorrysweetie\\nWhat is your favorite EXO release?\\n\\n Mama\\n\\n\\n XOXO\\n\\n\\n Miracles in December\\n\\n\\n Overdose\\n\\n\\n Exology Chapter 1: The Lost Planet\\n\\n\\n Exodus\\n\\n\\n Sing for You\\n\\n\\n Ex'Act\\n\\n\\n For Life\\n\\n\\n The War\\n\\n\\n Universe\\n\\n\\n Countdown\\n\\n\\n Don't Mess Up My Tempo\\n\\n\\n Love Shot\\n\\n\\n Obsession\\nResultsPoll Options are limited because JavaScript is disabled in your browser.The War 17%, 2706 votes 2706 votes 17%2706 votes - 17% of all votesLove Shot 15%, 2419 votes 2419 votes 15%2419 votes - 15% of all votesDon't Mess Up My Tempo 13%, 2140 votes 2140 votes 13%2140 votes - 13% of all votesXOXO 13%, 2060 votes 2060 votes 13%2060 votes - 13% of all votesObsession 10%, 1579 votes 1579 votes 10%1579 votes - 10% of all votesEx'Act 9%, 1424 votes 1424 votes 9%1424 votes - 9% of all votesExodus 8%, 1311 votes 1311 votes 8%1311 votes - 8% of all votesUniverse 3%, 512 votes 512 votes 3%512 votes - 3% of all votesOverdose 3%, 494 votes 494 votes 3%494 votes - 3% of all votesMama 3%, 467 votes 467 votes 3%467 votes - 3% of all votesMiracles in December 2%, 317 votes 317 votes 2%317 votes - 2% of all votesExology Chapter 1: The Lost Planet 1%, 229 votes 229 votes 1%229 votes - 1% of all votesSing for You 1%, 162 votes 162 votes 1%162 votes - 1% of all votesCountdown 1%, 157 votes 157 votes 1%157 votes - 1% of all votesFor Life 1%, 94 votes 94 votes 1%94 votes - 1% of all votesTotal Votes: 16071 September 17, 2019× You or your IP had already vote.        Mama    XOXO    Miracles in December    Overdose    Exology Chapter 1: The Lost Planet    Exodus    Sing for You    Ex'Act    For Life    The War    Universe    Countdown    Don't Mess Up My Tempo    Love Shot    Obsession × You or your IP had already vote.     ResultsWhat’s your favorite\\xa0EXO\\xa0release? Feel free to comment below.\\xa0🙂\\nTags#Discography EXO EXO Discography\"]\n"
          ]
        }
      ]
    },
    {
      "cell_type": "code",
      "source": [
        "ordered_lists = soup.find_all('ol')\n",
        "\n",
        "for ordered_list in ordered_lists:\n",
        "    list_items = ordered_list.find_all('li')\n",
        "    for list_item in list_items:\n",
        "        data_to_collect.append(list_item.text)\n",
        "\n",
        "print(ordered_lists)"
      ],
      "metadata": {
        "colab": {
          "base_uri": "https://localhost:8080/"
        },
        "id": "KHhkhLpYLJPK",
        "outputId": "565d0580-a678-468a-9a61-9f216b378a42"
      },
      "execution_count": 10,
      "outputs": [
        {
          "output_type": "stream",
          "name": "stdout",
          "text": [
            "[<ol><li><strong>Mama</strong></li><li><strong>What Is Love</strong></li><li><strong>History</strong></li><li>Angel</li><li>Two Moons</li><li>Machine</li></ol>, <ol><li><strong>Wolf</strong></li><li>Baby Don’t Cry</li><li>Black Pearl</li><li>Don’t Go</li><li>Let Out the Beast</li><li>3.6.5.</li><li>Heart Attack</li><li>Peter Pan</li><li>Baby</li><li>My Lady</li><li><strong>Wolf (EXO-K)</strong></li><li>Wolf (Mandarin Ver.)</li></ol>, <ol><li><strong>Miracles in December</strong></li><li>Christmas Day</li><li>The Star</li><li>My Turn to Cry</li><li>The First Snow</li><li>Miracles in December (Orchestra Ver.)</li></ol>, <ol><li><strong>Overdose</strong></li><li>Moonlight</li><li>Thunder</li><li>Run</li><li>Love, Love, Love</li><li>Overdose (EXO Ver.)</li></ol>, <ol><li>The Winter’s Tale</li><li>The Lost Planet</li><li>Haka</li><li>MAMA (Rearranged)</li><li>Let Out The Beast</li><li>I’m Lay</li><li>Delight</li><li>Angel</li><li>Black Pearl (Rearranged)</li><li>Up Rising</li><li>XOXO</li><li>Beat Maker</li><li>Love, Love, Love</li><li>Thunder</li><li>Tell Me What Is Love</li><li>My Lady</li><li>My Turn To Cry</li><li>Baby Don’t Cry</li><li>Machine</li><li>Breakin’ Machine</li><li>3.6.5.</li><li><strong>History</strong></li><li>Beautiful</li><li>Peter Pan</li><li>Metal</li><li>Deep Breath</li><li><strong>Overdose</strong></li><li>Wolf – The Legend Begins</li><li>Wolf</li><li><strong>Growl</strong></li><li>Lucky</li><li>Black Pearl (Studio Ver.)</li><li>Love, Love, Love (Acoustic Ver.)</li><li>Wolf (Stage Ver.)</li><li>Growl (Stage Ver.)</li></ol>, <ol><li><strong>Call Me Baby</strong></li><li>Transformer</li><li>What If…</li><li>My Answer</li><li>Exodus</li><li>El Dorado</li><li>Playboy</li><li>Hurt</li><li>Lady Luck</li><li>Beautiful</li></ol>, <ol><li>Unfair</li><li><strong>Sing for You</strong></li><li>Girl X Friend</li><li>On the Snow</li><li>Lightsaber</li></ol>, <ol><li><strong>Lucky One</strong></li><li><strong>Monster</strong></li><li>Artificial Love</li><li>Cloud 9</li><li>Heaven</li><li>White Noise</li><li>One and Only</li><li>They Never Know</li><li>Stronger</li><li>Lucky One (Instrumental)</li><li>Monster (Instrumental)</li></ol>, <ol><li><strong>For Life</strong></li><li>Falling for You</li><li>What I Want for Christmas</li><li>Twenty Four</li><li>Winter Heat</li></ol>, <ol><li>The Eve</li><li><strong>Ko Ko Bop</strong></li><li>What U Do?</li><li>Forever</li><li>Diamond</li><li>Touch It</li><li>Chill</li><li>Walk on Memories</li><li>Going Crazy</li></ol>, <ol><li><strong>Universe</strong></li><li>Been Through</li><li>Stay</li><li>Fall</li><li>Good Night</li><li>Lights Out</li><li>Universe (CD Ver.)</li></ol>, <ol><li>Electric Kiss</li><li>Coming Over</li><li><strong>Love Me Right</strong></li><li>Lightsaber</li><li>Tactix</li><li>Into My World</li><li>Lovin’ You Mo</li><li>Drop That</li><li>Run This</li><li>Cosmic Railway</li></ol>, <ol><li><strong>Tempo</strong></li><li>Sign</li><li>Ooh La La La</li><li>Gravity</li><li>With You</li><li>24/7</li><li>Bad Dream</li><li>Damage</li><li>Smile On My Face</li><li>Oasis</li><li>Tempo (Chinese Ver.)</li></ol>, <ol><li><strong>Love Shot</strong></li><li><strong>Tempo</strong></li><li>Trauma</li><li>Wait</li><li>Sign</li><li>Ooh La La</li><li>Gravity</li><li>With You</li><li>24/7</li><li>Bad Dream</li><li>Damage</li><li>Smile On My Face</li><li>Oasis</li><li>Love Shot (Chinese Ver.)</li><li>Tempo (Chinese Ver.)</li></ol>, <ol><li><strong>Obession</strong></li><li>Trouble</li><li>Jekyll</li><li>Groove</li><li>Ya Ya Ya</li><li>Baby You Are</li><li>Non Stop</li><li>Day After Day</li><li>Butterfly Effect</li><li>Obsession (Chinese Ver.)</li></ol>, <ol><li><a href=\"https://youtu.be/91VhCIQNjIc\" rel=\"noopener nofollow\" target=\"_blank\"><strong>Let Me In</strong></a></li></ol>, <ol><li><a href=\"https://youtu.be/r2VZQa2IgP4\" rel=\"noopener nofollow\" target=\"_blank\"><strong>Hear Me Out</strong></a></li></ol>, <ol><li><a href=\"https://youtu.be/i5nUufn_FmE\" rel=\"noopener nofollow\" target=\"_blank\"><strong>Cream Soda</strong></a></li><li>Regret It</li><li>Hear Me Out</li><li>Private Party</li><li>Cinderella</li><li>No Makeup</li><li>Love Fool</li><li>Another Day</li><li>Let Me In</li></ol>]\n"
          ]
        }
      ]
    },
    {
      "cell_type": "code",
      "source": [
        "cleaned_data = []\n",
        "\n",
        "for ol_element in ordered_lists:\n",
        "    item_data = []\n",
        "    for li_element in ol_element.find_all('li'):\n",
        "        text = li_element.get_text(strip=True)\n",
        "        if text:\n",
        "            item_data.append(text)\n",
        "    cleaned_data.append(item_data)\n",
        "\n",
        "for index, item in enumerate(cleaned_data, start=1):\n",
        "    print(f\"{index}. {', '.join(item)}\")"
      ],
      "metadata": {
        "colab": {
          "base_uri": "https://localhost:8080/"
        },
        "id": "3LprXt_DLRgL",
        "outputId": "86dbb8aa-8129-44ac-f2d6-f1749d8f56e2"
      },
      "execution_count": 11,
      "outputs": [
        {
          "output_type": "stream",
          "name": "stdout",
          "text": [
            "1. Mama, What Is Love, History, Angel, Two Moons, Machine\n",
            "2. Wolf, Baby Don’t Cry, Black Pearl, Don’t Go, Let Out the Beast, 3.6.5., Heart Attack, Peter Pan, Baby, My Lady, Wolf (EXO-K), Wolf (Mandarin Ver.)\n",
            "3. Miracles in December, Christmas Day, The Star, My Turn to Cry, The First Snow, Miracles in December (Orchestra Ver.)\n",
            "4. Overdose, Moonlight, Thunder, Run, Love, Love, Love, Overdose (EXO Ver.)\n",
            "5. The Winter’s Tale, The Lost Planet, Haka, MAMA (Rearranged), Let Out The Beast, I’m Lay, Delight, Angel, Black Pearl (Rearranged), Up Rising, XOXO, Beat Maker, Love, Love, Love, Thunder, Tell Me What Is Love, My Lady, My Turn To Cry, Baby Don’t Cry, Machine, Breakin’ Machine, 3.6.5., History, Beautiful, Peter Pan, Metal, Deep Breath, Overdose, Wolf – The Legend Begins, Wolf, Growl, Lucky, Black Pearl (Studio Ver.), Love, Love, Love (Acoustic Ver.), Wolf (Stage Ver.), Growl (Stage Ver.)\n",
            "6. Call Me Baby, Transformer, What If…, My Answer, Exodus, El Dorado, Playboy, Hurt, Lady Luck, Beautiful\n",
            "7. Unfair, Sing for You, Girl X Friend, On the Snow, Lightsaber\n",
            "8. Lucky One, Monster, Artificial Love, Cloud 9, Heaven, White Noise, One and Only, They Never Know, Stronger, Lucky One (Instrumental), Monster (Instrumental)\n",
            "9. For Life, Falling for You, What I Want for Christmas, Twenty Four, Winter Heat\n",
            "10. The Eve, Ko Ko Bop, What U Do?, Forever, Diamond, Touch It, Chill, Walk on Memories, Going Crazy\n",
            "11. Universe, Been Through, Stay, Fall, Good Night, Lights Out, Universe (CD Ver.)\n",
            "12. Electric Kiss, Coming Over, Love Me Right, Lightsaber, Tactix, Into My World, Lovin’ You Mo, Drop That, Run This, Cosmic Railway\n",
            "13. Tempo, Sign, Ooh La La La, Gravity, With You, 24/7, Bad Dream, Damage, Smile On My Face, Oasis, Tempo (Chinese Ver.)\n",
            "14. Love Shot, Tempo, Trauma, Wait, Sign, Ooh La La, Gravity, With You, 24/7, Bad Dream, Damage, Smile On My Face, Oasis, Love Shot (Chinese Ver.), Tempo (Chinese Ver.)\n",
            "15. Obession, Trouble, Jekyll, Groove, Ya Ya Ya, Baby You Are, Non Stop, Day After Day, Butterfly Effect, Obsession (Chinese Ver.)\n",
            "16. Let Me In\n",
            "17. Hear Me Out\n",
            "18. Cream Soda, Regret It, Hear Me Out, Private Party, Cinderella, No Makeup, Love Fool, Another Day, Let Me In\n"
          ]
        }
      ]
    },
    {
      "cell_type": "code",
      "source": [
        "song_list = []\n",
        "\n",
        "for ol_element in ordered_lists:\n",
        "    item_data = []\n",
        "    for li_element in ol_element.find_all('li'):\n",
        "        text = li_element.get_text(strip=True)\n",
        "        if text:\n",
        "            item_data.append(text)\n",
        "    if item_data:\n",
        "        formatted_list = \"\\n\".join([f\"{i + 1}. {item}\" for i, item in enumerate(item_data)])\n",
        "        song_list.append(formatted_list)\n",
        "\n",
        "for index, item in enumerate(song_list, start=1):\n",
        "    print(item)"
      ],
      "metadata": {
        "colab": {
          "base_uri": "https://localhost:8080/"
        },
        "id": "beDsdZ92LY9E",
        "outputId": "477842a0-0c32-4fc8-e5aa-168739db2278"
      },
      "execution_count": 12,
      "outputs": [
        {
          "output_type": "stream",
          "name": "stdout",
          "text": [
            "1. Mama\n",
            "2. What Is Love\n",
            "3. History\n",
            "4. Angel\n",
            "5. Two Moons\n",
            "6. Machine\n",
            "1. Wolf\n",
            "2. Baby Don’t Cry\n",
            "3. Black Pearl\n",
            "4. Don’t Go\n",
            "5. Let Out the Beast\n",
            "6. 3.6.5.\n",
            "7. Heart Attack\n",
            "8. Peter Pan\n",
            "9. Baby\n",
            "10. My Lady\n",
            "11. Wolf (EXO-K)\n",
            "12. Wolf (Mandarin Ver.)\n",
            "1. Miracles in December\n",
            "2. Christmas Day\n",
            "3. The Star\n",
            "4. My Turn to Cry\n",
            "5. The First Snow\n",
            "6. Miracles in December (Orchestra Ver.)\n",
            "1. Overdose\n",
            "2. Moonlight\n",
            "3. Thunder\n",
            "4. Run\n",
            "5. Love, Love, Love\n",
            "6. Overdose (EXO Ver.)\n",
            "1. The Winter’s Tale\n",
            "2. The Lost Planet\n",
            "3. Haka\n",
            "4. MAMA (Rearranged)\n",
            "5. Let Out The Beast\n",
            "6. I’m Lay\n",
            "7. Delight\n",
            "8. Angel\n",
            "9. Black Pearl (Rearranged)\n",
            "10. Up Rising\n",
            "11. XOXO\n",
            "12. Beat Maker\n",
            "13. Love, Love, Love\n",
            "14. Thunder\n",
            "15. Tell Me What Is Love\n",
            "16. My Lady\n",
            "17. My Turn To Cry\n",
            "18. Baby Don’t Cry\n",
            "19. Machine\n",
            "20. Breakin’ Machine\n",
            "21. 3.6.5.\n",
            "22. History\n",
            "23. Beautiful\n",
            "24. Peter Pan\n",
            "25. Metal\n",
            "26. Deep Breath\n",
            "27. Overdose\n",
            "28. Wolf – The Legend Begins\n",
            "29. Wolf\n",
            "30. Growl\n",
            "31. Lucky\n",
            "32. Black Pearl (Studio Ver.)\n",
            "33. Love, Love, Love (Acoustic Ver.)\n",
            "34. Wolf (Stage Ver.)\n",
            "35. Growl (Stage Ver.)\n",
            "1. Call Me Baby\n",
            "2. Transformer\n",
            "3. What If…\n",
            "4. My Answer\n",
            "5. Exodus\n",
            "6. El Dorado\n",
            "7. Playboy\n",
            "8. Hurt\n",
            "9. Lady Luck\n",
            "10. Beautiful\n",
            "1. Unfair\n",
            "2. Sing for You\n",
            "3. Girl X Friend\n",
            "4. On the Snow\n",
            "5. Lightsaber\n",
            "1. Lucky One\n",
            "2. Monster\n",
            "3. Artificial Love\n",
            "4. Cloud 9\n",
            "5. Heaven\n",
            "6. White Noise\n",
            "7. One and Only\n",
            "8. They Never Know\n",
            "9. Stronger\n",
            "10. Lucky One (Instrumental)\n",
            "11. Monster (Instrumental)\n",
            "1. For Life\n",
            "2. Falling for You\n",
            "3. What I Want for Christmas\n",
            "4. Twenty Four\n",
            "5. Winter Heat\n",
            "1. The Eve\n",
            "2. Ko Ko Bop\n",
            "3. What U Do?\n",
            "4. Forever\n",
            "5. Diamond\n",
            "6. Touch It\n",
            "7. Chill\n",
            "8. Walk on Memories\n",
            "9. Going Crazy\n",
            "1. Universe\n",
            "2. Been Through\n",
            "3. Stay\n",
            "4. Fall\n",
            "5. Good Night\n",
            "6. Lights Out\n",
            "7. Universe (CD Ver.)\n",
            "1. Electric Kiss\n",
            "2. Coming Over\n",
            "3. Love Me Right\n",
            "4. Lightsaber\n",
            "5. Tactix\n",
            "6. Into My World\n",
            "7. Lovin’ You Mo\n",
            "8. Drop That\n",
            "9. Run This\n",
            "10. Cosmic Railway\n",
            "1. Tempo\n",
            "2. Sign\n",
            "3. Ooh La La La\n",
            "4. Gravity\n",
            "5. With You\n",
            "6. 24/7\n",
            "7. Bad Dream\n",
            "8. Damage\n",
            "9. Smile On My Face\n",
            "10. Oasis\n",
            "11. Tempo (Chinese Ver.)\n",
            "1. Love Shot\n",
            "2. Tempo\n",
            "3. Trauma\n",
            "4. Wait\n",
            "5. Sign\n",
            "6. Ooh La La\n",
            "7. Gravity\n",
            "8. With You\n",
            "9. 24/7\n",
            "10. Bad Dream\n",
            "11. Damage\n",
            "12. Smile On My Face\n",
            "13. Oasis\n",
            "14. Love Shot (Chinese Ver.)\n",
            "15. Tempo (Chinese Ver.)\n",
            "1. Obession\n",
            "2. Trouble\n",
            "3. Jekyll\n",
            "4. Groove\n",
            "5. Ya Ya Ya\n",
            "6. Baby You Are\n",
            "7. Non Stop\n",
            "8. Day After Day\n",
            "9. Butterfly Effect\n",
            "10. Obsession (Chinese Ver.)\n",
            "1. Let Me In\n",
            "1. Hear Me Out\n",
            "1. Cream Soda\n",
            "2. Regret It\n",
            "3. Hear Me Out\n",
            "4. Private Party\n",
            "5. Cinderella\n",
            "6. No Makeup\n",
            "7. Love Fool\n",
            "8. Another Day\n",
            "9. Let Me In\n"
          ]
        }
      ]
    },
    {
      "cell_type": "code",
      "source": [
        "# save data as csv file\n",
        "with open('exo_discography.csv', 'w', newline='', encoding='utf-8') as csvfile:\n",
        "        csv_writer = csv.writer(csvfile)\n",
        "        for item in song_list:\n",
        "            csv_writer.writerow([item])"
      ],
      "metadata": {
        "id": "HYlwkcTaMMkz"
      },
      "execution_count": 15,
      "outputs": []
    },
    {
      "cell_type": "code",
      "source": [
        "#checking if the csvfile is save properly or not\n",
        "\n",
        "with open('exo_discography.csv', 'r', encoding='utf-8') as csvfile:\n",
        "    reader = csv.DictReader(csvfile)\n",
        "\n",
        "    for row in reader:\n",
        "        print(row)"
      ],
      "metadata": {
        "colab": {
          "base_uri": "https://localhost:8080/"
        },
        "id": "L7XAgh0NMx2Z",
        "outputId": "46b9ffd8-abf9-4d4a-a142-b4aa884466bf"
      },
      "execution_count": 16,
      "outputs": [
        {
          "output_type": "stream",
          "name": "stdout",
          "text": [
            "{'1. Mama\\n2. What Is Love\\n3. History\\n4. Angel\\n5. Two Moons\\n6. Machine': '1. Wolf\\n2. Baby Don’t Cry\\n3. Black Pearl\\n4. Don’t Go\\n5. Let Out the Beast\\n6. 3.6.5.\\n7. Heart Attack\\n8. Peter Pan\\n9. Baby\\n10. My Lady\\n11. Wolf (EXO-K)\\n12. Wolf (Mandarin Ver.)'}\n",
            "{'1. Mama\\n2. What Is Love\\n3. History\\n4. Angel\\n5. Two Moons\\n6. Machine': '1. Miracles in December\\n2. Christmas Day\\n3. The Star\\n4. My Turn to Cry\\n5. The First Snow\\n6. Miracles in December (Orchestra Ver.)'}\n",
            "{'1. Mama\\n2. What Is Love\\n3. History\\n4. Angel\\n5. Two Moons\\n6. Machine': '1. Overdose\\n2. Moonlight\\n3. Thunder\\n4. Run\\n5. Love, Love, Love\\n6. Overdose (EXO Ver.)'}\n",
            "{'1. Mama\\n2. What Is Love\\n3. History\\n4. Angel\\n5. Two Moons\\n6. Machine': '1. The Winter’s Tale\\n2. The Lost Planet\\n3. Haka\\n4. MAMA (Rearranged)\\n5. Let Out The Beast\\n6. I’m Lay\\n7. Delight\\n8. Angel\\n9. Black Pearl (Rearranged)\\n10. Up Rising\\n11. XOXO\\n12. Beat Maker\\n13. Love, Love, Love\\n14. Thunder\\n15. Tell Me What Is Love\\n16. My Lady\\n17. My Turn To Cry\\n18. Baby Don’t Cry\\n19. Machine\\n20. Breakin’ Machine\\n21. 3.6.5.\\n22. History\\n23. Beautiful\\n24. Peter Pan\\n25. Metal\\n26. Deep Breath\\n27. Overdose\\n28. Wolf – The Legend Begins\\n29. Wolf\\n30. Growl\\n31. Lucky\\n32. Black Pearl (Studio Ver.)\\n33. Love, Love, Love (Acoustic Ver.)\\n34. Wolf (Stage Ver.)\\n35. Growl (Stage Ver.)'}\n",
            "{'1. Mama\\n2. What Is Love\\n3. History\\n4. Angel\\n5. Two Moons\\n6. Machine': '1. Call Me Baby\\n2. Transformer\\n3. What If…\\n4. My Answer\\n5. Exodus\\n6. El Dorado\\n7. Playboy\\n8. Hurt\\n9. Lady Luck\\n10. Beautiful'}\n",
            "{'1. Mama\\n2. What Is Love\\n3. History\\n4. Angel\\n5. Two Moons\\n6. Machine': '1. Unfair\\n2. Sing for You\\n3. Girl X Friend\\n4. On the Snow\\n5. Lightsaber'}\n",
            "{'1. Mama\\n2. What Is Love\\n3. History\\n4. Angel\\n5. Two Moons\\n6. Machine': '1. Lucky One\\n2. Monster\\n3. Artificial Love\\n4. Cloud 9\\n5. Heaven\\n6. White Noise\\n7. One and Only\\n8. They Never Know\\n9. Stronger\\n10. Lucky One (Instrumental)\\n11. Monster (Instrumental)'}\n",
            "{'1. Mama\\n2. What Is Love\\n3. History\\n4. Angel\\n5. Two Moons\\n6. Machine': '1. For Life\\n2. Falling for You\\n3. What I Want for Christmas\\n4. Twenty Four\\n5. Winter Heat'}\n",
            "{'1. Mama\\n2. What Is Love\\n3. History\\n4. Angel\\n5. Two Moons\\n6. Machine': '1. The Eve\\n2. Ko Ko Bop\\n3. What U Do?\\n4. Forever\\n5. Diamond\\n6. Touch It\\n7. Chill\\n8. Walk on Memories\\n9. Going Crazy'}\n",
            "{'1. Mama\\n2. What Is Love\\n3. History\\n4. Angel\\n5. Two Moons\\n6. Machine': '1. Universe\\n2. Been Through\\n3. Stay\\n4. Fall\\n5. Good Night\\n6. Lights Out\\n7. Universe (CD Ver.)'}\n",
            "{'1. Mama\\n2. What Is Love\\n3. History\\n4. Angel\\n5. Two Moons\\n6. Machine': '1. Electric Kiss\\n2. Coming Over\\n3. Love Me Right\\n4. Lightsaber\\n5. Tactix\\n6. Into My World\\n7. Lovin’ You Mo\\n8. Drop That\\n9. Run This\\n10. Cosmic Railway'}\n",
            "{'1. Mama\\n2. What Is Love\\n3. History\\n4. Angel\\n5. Two Moons\\n6. Machine': '1. Tempo\\n2. Sign\\n3. Ooh La La La\\n4. Gravity\\n5. With You\\n6. 24/7\\n7. Bad Dream\\n8. Damage\\n9. Smile On My Face\\n10. Oasis\\n11. Tempo (Chinese Ver.)'}\n",
            "{'1. Mama\\n2. What Is Love\\n3. History\\n4. Angel\\n5. Two Moons\\n6. Machine': '1. Love Shot\\n2. Tempo\\n3. Trauma\\n4. Wait\\n5. Sign\\n6. Ooh La La\\n7. Gravity\\n8. With You\\n9. 24/7\\n10. Bad Dream\\n11. Damage\\n12. Smile On My Face\\n13. Oasis\\n14. Love Shot (Chinese Ver.)\\n15. Tempo (Chinese Ver.)'}\n",
            "{'1. Mama\\n2. What Is Love\\n3. History\\n4. Angel\\n5. Two Moons\\n6. Machine': '1. Obession\\n2. Trouble\\n3. Jekyll\\n4. Groove\\n5. Ya Ya Ya\\n6. Baby You Are\\n7. Non Stop\\n8. Day After Day\\n9. Butterfly Effect\\n10. Obsession (Chinese Ver.)'}\n",
            "{'1. Mama\\n2. What Is Love\\n3. History\\n4. Angel\\n5. Two Moons\\n6. Machine': '1. Let Me In'}\n",
            "{'1. Mama\\n2. What Is Love\\n3. History\\n4. Angel\\n5. Two Moons\\n6. Machine': '1. Hear Me Out'}\n",
            "{'1. Mama\\n2. What Is Love\\n3. History\\n4. Angel\\n5. Two Moons\\n6. Machine': '1. Cream Soda\\n2. Regret It\\n3. Hear Me Out\\n4. Private Party\\n5. Cinderella\\n6. No Makeup\\n7. Love Fool\\n8. Another Day\\n9. Let Me In'}\n"
          ]
        }
      ]
    },
    {
      "cell_type": "code",
      "source": [
        "# save data as json file\n",
        "with open('exo_discography.json', 'w', encoding='utf-8') as jsonfile:\n",
        "        json.dump(song_list, jsonfile, ensure_ascii=False, indent=4)"
      ],
      "metadata": {
        "id": "ezUcC9vFNWCs"
      },
      "execution_count": 17,
      "outputs": []
    },
    {
      "cell_type": "code",
      "source": [
        "#checking if the jsonfile is save properly or not\n",
        "with open('exo_discography.json', 'r', encoding='utf-8') as jsonfile:\n",
        "    data = json.load(jsonfile)\n",
        "    print(data)"
      ],
      "metadata": {
        "colab": {
          "base_uri": "https://localhost:8080/"
        },
        "id": "7U9vdO2CNbwe",
        "outputId": "f5d9838a-3dea-4d71-9290-3338fa1fa273"
      },
      "execution_count": 19,
      "outputs": [
        {
          "output_type": "stream",
          "name": "stdout",
          "text": [
            "['1. Mama\\n2. What Is Love\\n3. History\\n4. Angel\\n5. Two Moons\\n6. Machine', '1. Wolf\\n2. Baby Don’t Cry\\n3. Black Pearl\\n4. Don’t Go\\n5. Let Out the Beast\\n6. 3.6.5.\\n7. Heart Attack\\n8. Peter Pan\\n9. Baby\\n10. My Lady\\n11. Wolf (EXO-K)\\n12. Wolf (Mandarin Ver.)', '1. Miracles in December\\n2. Christmas Day\\n3. The Star\\n4. My Turn to Cry\\n5. The First Snow\\n6. Miracles in December (Orchestra Ver.)', '1. Overdose\\n2. Moonlight\\n3. Thunder\\n4. Run\\n5. Love, Love, Love\\n6. Overdose (EXO Ver.)', '1. The Winter’s Tale\\n2. The Lost Planet\\n3. Haka\\n4. MAMA (Rearranged)\\n5. Let Out The Beast\\n6. I’m Lay\\n7. Delight\\n8. Angel\\n9. Black Pearl (Rearranged)\\n10. Up Rising\\n11. XOXO\\n12. Beat Maker\\n13. Love, Love, Love\\n14. Thunder\\n15. Tell Me What Is Love\\n16. My Lady\\n17. My Turn To Cry\\n18. Baby Don’t Cry\\n19. Machine\\n20. Breakin’ Machine\\n21. 3.6.5.\\n22. History\\n23. Beautiful\\n24. Peter Pan\\n25. Metal\\n26. Deep Breath\\n27. Overdose\\n28. Wolf – The Legend Begins\\n29. Wolf\\n30. Growl\\n31. Lucky\\n32. Black Pearl (Studio Ver.)\\n33. Love, Love, Love (Acoustic Ver.)\\n34. Wolf (Stage Ver.)\\n35. Growl (Stage Ver.)', '1. Call Me Baby\\n2. Transformer\\n3. What If…\\n4. My Answer\\n5. Exodus\\n6. El Dorado\\n7. Playboy\\n8. Hurt\\n9. Lady Luck\\n10. Beautiful', '1. Unfair\\n2. Sing for You\\n3. Girl X Friend\\n4. On the Snow\\n5. Lightsaber', '1. Lucky One\\n2. Monster\\n3. Artificial Love\\n4. Cloud 9\\n5. Heaven\\n6. White Noise\\n7. One and Only\\n8. They Never Know\\n9. Stronger\\n10. Lucky One (Instrumental)\\n11. Monster (Instrumental)', '1. For Life\\n2. Falling for You\\n3. What I Want for Christmas\\n4. Twenty Four\\n5. Winter Heat', '1. The Eve\\n2. Ko Ko Bop\\n3. What U Do?\\n4. Forever\\n5. Diamond\\n6. Touch It\\n7. Chill\\n8. Walk on Memories\\n9. Going Crazy', '1. Universe\\n2. Been Through\\n3. Stay\\n4. Fall\\n5. Good Night\\n6. Lights Out\\n7. Universe (CD Ver.)', '1. Electric Kiss\\n2. Coming Over\\n3. Love Me Right\\n4. Lightsaber\\n5. Tactix\\n6. Into My World\\n7. Lovin’ You Mo\\n8. Drop That\\n9. Run This\\n10. Cosmic Railway', '1. Tempo\\n2. Sign\\n3. Ooh La La La\\n4. Gravity\\n5. With You\\n6. 24/7\\n7. Bad Dream\\n8. Damage\\n9. Smile On My Face\\n10. Oasis\\n11. Tempo (Chinese Ver.)', '1. Love Shot\\n2. Tempo\\n3. Trauma\\n4. Wait\\n5. Sign\\n6. Ooh La La\\n7. Gravity\\n8. With You\\n9. 24/7\\n10. Bad Dream\\n11. Damage\\n12. Smile On My Face\\n13. Oasis\\n14. Love Shot (Chinese Ver.)\\n15. Tempo (Chinese Ver.)', '1. Obession\\n2. Trouble\\n3. Jekyll\\n4. Groove\\n5. Ya Ya Ya\\n6. Baby You Are\\n7. Non Stop\\n8. Day After Day\\n9. Butterfly Effect\\n10. Obsession (Chinese Ver.)', '1. Let Me In', '1. Hear Me Out', '1. Cream Soda\\n2. Regret It\\n3. Hear Me Out\\n4. Private Party\\n5. Cinderella\\n6. No Makeup\\n7. Love Fool\\n8. Another Day\\n9. Let Me In']\n"
          ]
        }
      ]
    }
  ]
}