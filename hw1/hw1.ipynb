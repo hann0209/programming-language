{
  "metadata": {
    "kernelspec": {
      "name": "python",
      "display_name": "Python (Pyodide)",
      "language": "python"
    },
    "language_info": {
      "codemirror_mode": {
        "name": "python",
        "version": 3
      },
      "file_extension": ".py",
      "mimetype": "text/x-python",
      "name": "python",
      "nbconvert_exporter": "python",
      "pygments_lexer": "ipython3",
      "version": "3.8"
    },
    "colab": {
      "provenance": []
    }
  },
  "nbformat_minor": 4,
  "nbformat": 4,
  "cells": [
    {
      "cell_type": "code",
      "source": "import pandas as pd\n\n# CSV to dataframe\ndata = pd.read_csv('namelist.csv',delimiter=';')\nprint(\"2022 and 2023 top company:\")\ndisplay(df)\nprint()\n\n# Sample DataFrames\ndf = pd.DataFrame(data)\ndf1 = df['2022']\ndf2 = df['2023']\n\n# Union\nunion_df = pd.concat([df1, df2]).drop_duplicates().reset_index(drop=True)\nprint(\"Union of 2022 and 2023:\")\nprint(union_df)\n\n# Difference\ndiff_df = pd.concat([df1, df2, df2]).drop_duplicates(keep=False).reset_index(drop=True)\nprint(\"\\nDifference between 2022 and 2023:\")\nprint(diff_df)\n\n# Intersection\nintersect_df = df1.merge(df2,left_on = '2022',right_on = '2023')\nprint(\"\\nIntersection of 2022 and 2023:\")\nprint(intersect_df)",
      "metadata": {
        "colab": {
          "base_uri": "https://localhost:8080/",
          "height": 356
        },
        "id": "XwbCNE8-5Nvx",
        "outputId": "acea1171-07b3-4b89-8f55-c393fe83f334",
        "trusted": true
      },
      "outputs": [
        {
          "name": "stdout",
          "text": "2022 and 2023 top company:\n",
          "output_type": "stream"
        },
        {
          "output_type": "display_data",
          "data": {
            "text/plain": "                 2022                   2023\n0              Apple               Microsoft\n1           Microsoft                  Apple\n2        Saudi Aramco               Alphabet\n3            Alphabet         Meta Platforms\n4              Amazon              Accenture\n5  Berkshire Hathaway                 Pfizer\n6               Tesla       American Express\n7  UnitedHealth Group  Electricite de France\n8   Johnson & Johnson              BMW Group\n9                Visa      Dell Technologies",
            "text/html": "<div>\n<style scoped>\n    .dataframe tbody tr th:only-of-type {\n        vertical-align: middle;\n    }\n\n    .dataframe tbody tr th {\n        vertical-align: top;\n    }\n\n    .dataframe thead th {\n        text-align: right;\n    }\n</style>\n<table border=\"1\" class=\"dataframe\">\n  <thead>\n    <tr style=\"text-align: right;\">\n      <th></th>\n      <th>2022</th>\n      <th>2023</th>\n    </tr>\n  </thead>\n  <tbody>\n    <tr>\n      <th>0</th>\n      <td>Apple</td>\n      <td>Microsoft</td>\n    </tr>\n    <tr>\n      <th>1</th>\n      <td>Microsoft</td>\n      <td>Apple</td>\n    </tr>\n    <tr>\n      <th>2</th>\n      <td>Saudi Aramco</td>\n      <td>Alphabet</td>\n    </tr>\n    <tr>\n      <th>3</th>\n      <td>Alphabet</td>\n      <td>Meta Platforms</td>\n    </tr>\n    <tr>\n      <th>4</th>\n      <td>Amazon</td>\n      <td>Accenture</td>\n    </tr>\n    <tr>\n      <th>5</th>\n      <td>Berkshire Hathaway</td>\n      <td>Pfizer</td>\n    </tr>\n    <tr>\n      <th>6</th>\n      <td>Tesla</td>\n      <td>American Express</td>\n    </tr>\n    <tr>\n      <th>7</th>\n      <td>UnitedHealth Group</td>\n      <td>Electricite de France</td>\n    </tr>\n    <tr>\n      <th>8</th>\n      <td>Johnson &amp; Johnson</td>\n      <td>BMW Group</td>\n    </tr>\n    <tr>\n      <th>9</th>\n      <td>Visa</td>\n      <td>Dell Technologies</td>\n    </tr>\n  </tbody>\n</table>\n</div>"
          },
          "metadata": {}
        },
        {
          "name": "stdout",
          "text": "\nUnion of 2022 and 2023:\n0                    Apple \n1                 Microsoft\n2              Saudi Aramco\n3                  Alphabet\n4                    Amazon\n5        Berkshire Hathaway\n6                     Tesla\n7        UnitedHealth Group\n8         Johnson & Johnson\n9                      Visa\n10                    Apple\n11           Meta Platforms\n12                Accenture\n13                   Pfizer\n14         American Express\n15    Electricite de France\n16                BMW Group\n17        Dell Technologies\ndtype: object\n\nDifference between 2022 and 2023:\n0                Apple \n1          Saudi Aramco\n2                Amazon\n3    Berkshire Hathaway\n4                 Tesla\n5    UnitedHealth Group\n6     Johnson & Johnson\n7                  Visa\ndtype: object\n",
          "output_type": "stream"
        },
        {
          "ename": "<class 'AttributeError'>",
          "evalue": "'Series' object has no attribute 'merge'",
          "traceback": [
            "\u001b[0;31m---------------------------------------------------------------------------\u001b[0m",
            "\u001b[0;31mAttributeError\u001b[0m                            Traceback (most recent call last)",
            "\u001b[0;32m<ipython-input-48-261792c60968>\u001b[0m in \u001b[0;36m?\u001b[0;34m()\u001b[0m\n\u001b[1;32m     21\u001b[0m \u001b[0mprint\u001b[0m\u001b[0;34m(\u001b[0m\u001b[0;34m\"\\nDifference between 2022 and 2023:\"\u001b[0m\u001b[0;34m)\u001b[0m\u001b[0;34m\u001b[0m\u001b[0;34m\u001b[0m\u001b[0m\n\u001b[1;32m     22\u001b[0m \u001b[0mprint\u001b[0m\u001b[0;34m(\u001b[0m\u001b[0mdiff_df\u001b[0m\u001b[0;34m)\u001b[0m\u001b[0;34m\u001b[0m\u001b[0;34m\u001b[0m\u001b[0m\n\u001b[1;32m     23\u001b[0m \u001b[0;34m\u001b[0m\u001b[0m\n\u001b[1;32m     24\u001b[0m \u001b[0;31m# Intersection\u001b[0m\u001b[0;34m\u001b[0m\u001b[0;34m\u001b[0m\u001b[0m\n\u001b[0;32m---> 25\u001b[0;31m \u001b[0mintersect_df\u001b[0m \u001b[0;34m=\u001b[0m \u001b[0mdf1\u001b[0m\u001b[0;34m.\u001b[0m\u001b[0mmerge\u001b[0m\u001b[0;34m(\u001b[0m\u001b[0mdf2\u001b[0m\u001b[0;34m,\u001b[0m\u001b[0mleft_on\u001b[0m \u001b[0;34m=\u001b[0m \u001b[0;34m'2022'\u001b[0m\u001b[0;34m,\u001b[0m\u001b[0mright_on\u001b[0m \u001b[0;34m=\u001b[0m \u001b[0;34m'2023'\u001b[0m\u001b[0;34m)\u001b[0m\u001b[0;34m\u001b[0m\u001b[0;34m\u001b[0m\u001b[0m\n\u001b[0m\u001b[1;32m     26\u001b[0m \u001b[0mprint\u001b[0m\u001b[0;34m(\u001b[0m\u001b[0;34m\"\\nIntersection of 2022 and 2023:\"\u001b[0m\u001b[0;34m)\u001b[0m\u001b[0;34m\u001b[0m\u001b[0;34m\u001b[0m\u001b[0m\n\u001b[1;32m     27\u001b[0m \u001b[0mprint\u001b[0m\u001b[0;34m(\u001b[0m\u001b[0mintersect_df\u001b[0m\u001b[0;34m)\u001b[0m\u001b[0;34m\u001b[0m\u001b[0;34m\u001b[0m\u001b[0m\n",
            "\u001b[0;32m/lib/python3.11/site-packages/pandas/core/generic.py\u001b[0m in \u001b[0;36m?\u001b[0;34m(self, name)\u001b[0m\n\u001b[1;32m   5898\u001b[0m             \u001b[0;32mand\u001b[0m \u001b[0mname\u001b[0m \u001b[0;32mnot\u001b[0m \u001b[0;32min\u001b[0m \u001b[0mself\u001b[0m\u001b[0;34m.\u001b[0m\u001b[0m_accessors\u001b[0m\u001b[0;34m\u001b[0m\u001b[0;34m\u001b[0m\u001b[0m\n\u001b[1;32m   5899\u001b[0m             \u001b[0;32mand\u001b[0m \u001b[0mself\u001b[0m\u001b[0;34m.\u001b[0m\u001b[0m_info_axis\u001b[0m\u001b[0;34m.\u001b[0m\u001b[0m_can_hold_identifiers_and_holds_name\u001b[0m\u001b[0;34m(\u001b[0m\u001b[0mname\u001b[0m\u001b[0;34m)\u001b[0m\u001b[0;34m\u001b[0m\u001b[0;34m\u001b[0m\u001b[0m\n\u001b[1;32m   5900\u001b[0m         ):\n\u001b[1;32m   5901\u001b[0m             \u001b[0;32mreturn\u001b[0m \u001b[0mself\u001b[0m\u001b[0;34m[\u001b[0m\u001b[0mname\u001b[0m\u001b[0;34m]\u001b[0m\u001b[0;34m\u001b[0m\u001b[0;34m\u001b[0m\u001b[0m\n\u001b[0;32m-> 5902\u001b[0;31m         \u001b[0;32mreturn\u001b[0m \u001b[0mobject\u001b[0m\u001b[0;34m.\u001b[0m\u001b[0m__getattribute__\u001b[0m\u001b[0;34m(\u001b[0m\u001b[0mself\u001b[0m\u001b[0;34m,\u001b[0m \u001b[0mname\u001b[0m\u001b[0;34m)\u001b[0m\u001b[0;34m\u001b[0m\u001b[0;34m\u001b[0m\u001b[0m\n\u001b[0m",
            "\u001b[0;31mAttributeError\u001b[0m: 'Series' object has no attribute 'merge'"
          ],
          "output_type": "error"
        }
      ],
      "execution_count": 48
    }
  ]
}